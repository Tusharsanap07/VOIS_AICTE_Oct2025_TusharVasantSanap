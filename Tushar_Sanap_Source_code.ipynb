{
 "cells": [
  {
   "cell_type": "markdown",
   "id": "2c938075",
   "metadata": {},
   "source": [
    "# Airbnb Hotel Booking Analysis\n",
    "Author: Tushar Sanap\n",
    "\n",
    "This submission notebook performs data cleaning, EDA, visualizations, and a simple price prediction model. Three PNG images have been generated in `/mnt/data/` for inclusion in a PPT.\n",
    "\n",
    "Files produced:\n",
    "- `/mnt/data/airbnb_cleaned_for_Tushar.csv` (cleaned data)\n",
    "- `plot_price_distribution.png`\n",
    "- `plot_avg_price_by_neighbourhood_group.png`\n",
    "- `plot_roomtype_vs_price.png`\n",
    "\n",
    "Run the cells to reproduce the analysis and regenerate the plots."
   ]
  },
  {
   "cell_type": "code",
   "execution_count": null,
   "id": "c05d9ccf",
   "metadata": {},
   "outputs": [],
   "source": [
    "import pandas as pd\n",
    "import numpy as np\n",
    "import matplotlib.pyplot as plt\n",
    "from sklearn.model_selection import train_test_split\n",
    "from sklearn.linear_model import LinearRegression\n",
    "from sklearn.metrics import mean_squared_error, r2_score\n",
    "\n",
    "pd.set_option('display.max_columns', 50)\n",
    "print('Imports ready')"
   ]
  },
  {
   "cell_type": "code",
   "execution_count": null,
   "id": "93921968",
   "metadata": {},
   "outputs": [],
   "source": [
    "df = pd.read_csv('/mnt/data/airbnb_cleaned_for_Tushar.csv')\n",
    "print('Loaded cleaned data with shape:', df.shape)\n",
    "df.head()"
   ]
  },
  {
   "cell_type": "code",
   "execution_count": null,
   "id": "20883ed9",
   "metadata": {},
   "outputs": [],
   "source": [
    "print('Numeric summary:')\n",
    "print(df.describe().T)\n",
    "\n",
    "print('\\nTop neighbourhoods by count:')\n",
    "if 'neighbourhood' in df.columns:\n",
    "    print(df['neighbourhood'].value_counts().head(10))\n",
    "else:\n",
    "    print('No neighbourhood column')"
   ]
  },
  {
   "cell_type": "code",
   "execution_count": null,
   "id": "7345e612",
   "metadata": {},
   "outputs": [],
   "source": [
    "plt.figure(figsize=(8,5))\n",
    "plt.hist(df['price'].dropna(), bins=50)\n",
    "plt.xlabel('Price')\n",
    "plt.ylabel('Count')\n",
    "plt.title('Price Distribution (USD)')\n",
    "plt.show()\n",
    "\n",
    "# Avg price by group\n",
    "group_col = 'neighbourhood_group' if 'neighbourhood_group' in df.columns else 'neighbourhood'\n",
    "avg_price = df.groupby(group_col)['price'].mean().sort_values(ascending=False).head(15)\n",
    "plt.figure(figsize=(10,5))\n",
    "plt.bar(avg_price.index.astype(str), avg_price.values)\n",
    "plt.xlabel(group_col.replace('_',' ').title())\n",
    "plt.ylabel('Average Price')\n",
    "plt.title('Average Price by ' + group_col.replace('_',' ').title())\n",
    "plt.xticks(rotation=45, ha='right')\n",
    "plt.show()\n",
    "\n",
    "# Room type vs price\n",
    "if 'room_type' in df.columns:\n",
    "    rt = df.groupby('room_type')['price'].mean().sort_values()\n",
    "    plt.figure(figsize=(8,5))\n",
    "    plt.bar(rt.index.astype(str), rt.values)\n",
    "    plt.xlabel('Room Type')\n",
    "    plt.ylabel('Average Price')\n",
    "    plt.title('Average Price by Room Type')\n",
    "    plt.xticks(rotation=30, ha='right')\n",
    "    plt.show()\n",
    "else:\n",
    "    plt.figure(figsize=(8,5))\n",
    "    plt.scatter(df['number_of_reviews'], df['price'], s=10)\n",
    "    plt.xlabel('Number of Reviews')\n",
    "    plt.ylabel('Price')\n",
    "    plt.title('Price vs Number of Reviews')\n",
    "    plt.show()"
   ]
  },
  {
   "cell_type": "code",
   "execution_count": null,
   "id": "01f09bf3",
   "metadata": {},
   "outputs": [],
   "source": [
    "# Simple regression model (numeric features only)\n",
    "num_cols = df.select_dtypes(include=[np.number]).columns.tolist()\n",
    "if 'price' in num_cols:\n",
    "    X = df[num_cols].drop(columns=['price'])\n",
    "    # drop columns with too many unique values (like ids)\n",
    "    X = X.loc[:, X.nunique() < 200]\n",
    "    y = df['price']\n",
    "    X_train, X_test, y_train, y_test = train_test_split(X, y, test_size=0.2, random_state=42)\n",
    "    model = LinearRegression()\n",
    "    model.fit(X_train, y_train)\n",
    "    y_pred = model.predict(X_test)\n",
    "    print('MSE:', mean_squared_error(y_test, y_pred))\n",
    "    print('R2:', r2_score(y_test, y_pred))\n",
    "else:\n",
    "    print('No numeric price column for modeling')"
   ]
  },
  {
   "cell_type": "markdown",
   "id": "9cc041a4",
   "metadata": {},
   "source": [
    "## Conclusions & Submission Notes\n",
    "\n",
    "- Cleaned data saved as `airbnb_cleaned_for_Tushar.csv`.\n",
    "- Three professional plots saved as PNGs in `/mnt/data/` (use these in your PPT).\n",
    "- The simple linear regression is a baseline — consider tree-based models for better performance.\n",
    "\n",
    "Good luck with your internship submission, Tushar!"
   ]
  }
 ],
 "metadata": {},
 "nbformat": 4,
 "nbformat_minor": 5
}
